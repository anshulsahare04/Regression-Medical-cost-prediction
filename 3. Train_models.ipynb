{
 "cells": [
  {
   "cell_type": "code",
   "execution_count": 1,
   "id": "521ed961-7a27-4c16-a3e0-2a85d5095b20",
   "metadata": {},
   "outputs": [],
   "source": [
    "# train_models.py\n",
    "\n",
    "import pandas as pd\n",
    "import numpy as np\n",
    "from sklearn.model_selection import train_test_split\n",
    "from sklearn.linear_model import LinearRegression, Ridge\n",
    "from sklearn.ensemble import GradientBoostingRegressor, RandomForestRegressor\n",
    "import joblib\n",
    "import warnings\n",
    "\n",
    "warnings.filterwarnings('ignore')"
   ]
  },
  {
   "cell_type": "code",
   "execution_count": 2,
   "id": "7d0a08b8-b9c8-40ed-a697-9613ca1a36ab",
   "metadata": {},
   "outputs": [],
   "source": [
    "# --- 1. Load and Preprocess Data ---\n",
    "# This section is adapted from your notebook\n",
    "df = pd.read_csv('insurance_processed.csv')\n",
    "\n",
    "# Apply log transformation to the target variable\n",
    "df['expenses'] = np.log1p(df['expenses'])\n"
   ]
  },
  {
   "cell_type": "code",
   "execution_count": 3,
   "id": "2d31c61d-22cd-4acd-aeda-b9e0daee8b20",
   "metadata": {},
   "outputs": [
    {
     "name": "stdout",
     "output_type": "stream",
     "text": [
      "Data loaded and preprocessed.\n"
     ]
    }
   ],
   "source": [
    "# One-Hot Encoding for categorical features\n",
    "df_encoded = pd.get_dummies(df, columns=['sex', 'smoker', 'region'], drop_first=True)\n",
    "\n",
    "# Drop the 'bmi_category' as it was for EDA\n",
    "df_encoded = df_encoded.drop('bmi_category', axis=1)\n",
    "\n",
    "# Define features (X) and target (y)\n",
    "X = df_encoded.drop('expenses', axis=1)\n",
    "y = df_encoded['expenses']\n",
    "\n",
    "# Split the data (we'll train on the full dataset for the app)\n",
    "\n",
    "X_train, X_test, y_train, y_test = train_test_split(X, y, test_size=0.2, random_state=42)\n",
    "\n",
    "print(\"Data loaded and preprocessed.\")"
   ]
  },
  {
   "cell_type": "code",
   "execution_count": 7,
   "id": "af4d6576-b96f-4edb-994c-0f1940ad93d1",
   "metadata": {},
   "outputs": [
    {
     "name": "stdout",
     "output_type": "stream",
     "text": [
      "Linear Regression model trained and saved.\n",
      "Ridge Regression model trained and saved.\n",
      "Gradient Boosting model trained and saved.\n",
      "Random Forest model trained and saved.\n"
     ]
    }
   ],
   "source": [
    "# --- 2. Train and Save Models ---\n",
    "\n",
    "# Model 1: Linear Regression\n",
    "lr_model = LinearRegression()\n",
    "lr_model.fit(X_train, y_train)\n",
    "joblib.dump(lr_model, 'linear_regression_model.pkl')\n",
    "print(\"Linear Regression model trained and saved.\")\n",
    "\n",
    "# Model 2: Ridge Regression\n",
    "ridge_model = Ridge(alpha=1.0)\n",
    "ridge_model.fit(X_train, y_train)\n",
    "joblib.dump(ridge_model, 'ridge_regression_model.pkl')\n",
    "print(\"Ridge Regression model trained and saved.\")\n",
    "\n",
    "# Model 3: Gradient Boosting Regressor\n",
    "gbr_model = GradientBoostingRegressor(random_state=42)\n",
    "gbr_model.fit(X_train, y_train)\n",
    "joblib.dump(gbr_model, 'gradient_boosting_model.pkl')\n",
    "print(\"Gradient Boosting model trained and saved.\")\n",
    "\n",
    "# Model 4: Random Forest Regressor\n",
    "rf_model = RandomForestRegressor(n_estimators=100, random_state=42, n_jobs=-1)\n",
    "rf_model.fit(X_train, y_train)\n",
    "joblib.dump(rf_model, 'random_forest_model.pkl')\n",
    "print(\"Random Forest model trained and saved.\")\n",
    "\n"
   ]
  },
  {
   "cell_type": "code",
   "execution_count": 9,
   "id": "44bea2b4-0e57-4b66-a1a7-6bfe2ff1ea67",
   "metadata": {},
   "outputs": [
    {
     "name": "stdout",
     "output_type": "stream",
     "text": [
      "Model columns saved.\n",
      "\n",
      "All models have been trained and saved successfully!\n"
     ]
    }
   ],
   "source": [
    "# Save the column order for the app to use\n",
    "joblib.dump(X.columns, 'model_columns.pkl')\n",
    "print(\"Model columns saved.\")\n",
    "\n",
    "print(\"\\nAll models have been trained and saved successfully!\")"
   ]
  },
  {
   "cell_type": "code",
   "execution_count": null,
   "id": "fb1e2609-d242-4dfe-9bb5-c3db72985273",
   "metadata": {},
   "outputs": [],
   "source": []
  }
 ],
 "metadata": {
  "kernelspec": {
   "display_name": "Python [conda env:base] *",
   "language": "python",
   "name": "conda-base-py"
  },
  "language_info": {
   "codemirror_mode": {
    "name": "ipython",
    "version": 3
   },
   "file_extension": ".py",
   "mimetype": "text/x-python",
   "name": "python",
   "nbconvert_exporter": "python",
   "pygments_lexer": "ipython3",
   "version": "3.12.7"
  }
 },
 "nbformat": 4,
 "nbformat_minor": 5
}
